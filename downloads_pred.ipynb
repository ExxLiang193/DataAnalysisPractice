{
  "nbformat": 4,
  "nbformat_minor": 0,
  "metadata": {
    "colab": {
      "name": "downloads_pred.ipynb",
      "provenance": [],
      "collapsed_sections": [],
      "authorship_tag": "ABX9TyMTfj08eNVP4afiTX+zqUwL",
      "include_colab_link": true
    },
    "kernelspec": {
      "name": "python3",
      "display_name": "Python 3"
    }
  },
  "cells": [
    {
      "cell_type": "markdown",
      "metadata": {
        "id": "view-in-github",
        "colab_type": "text"
      },
      "source": [
        "<a href=\"https://colab.research.google.com/github/ExxLiang193/DataAnalysisPractice/blob/master/downloads_pred.ipynb\" target=\"_parent\"><img src=\"https://colab.research.google.com/assets/colab-badge.svg\" alt=\"Open In Colab\"/></a>"
      ]
    },
    {
      "cell_type": "code",
      "metadata": {
        "id": "pA-wKq6qp5On",
        "colab_type": "code",
        "colab": {}
      },
      "source": [
        "import numpy as np\n",
        "import pandas as pd\n",
        "import re\n",
        "pd.set_option('display.max_rows', 500)\n",
        "pd.set_option('display.max_columns', 500)\n",
        "pd.set_option('display.width', 1000)"
      ],
      "execution_count": 0,
      "outputs": []
    },
    {
      "cell_type": "code",
      "metadata": {
        "id": "tVDthynUrNJu",
        "colab_type": "code",
        "colab": {}
      },
      "source": [
        "with open('googleplaystore.csv', 'r') as psf:\n",
        "    store_data = pd.read_csv(psf)\n",
        "store_data.drop([10472], inplace=True) # Invalid entry"
      ],
      "execution_count": 0,
      "outputs": []
    },
    {
      "cell_type": "code",
      "metadata": {
        "id": "PdFjBwx3QZbB",
        "colab_type": "code",
        "colab": {}
      },
      "source": [
        "VARIABLE = 'Varies with device'\n",
        "\n",
        "# Mapping helper functions\n",
        "\n",
        "def size_parse(size):\n",
        "    if size == VARIABLE:\n",
        "        return -1.\n",
        "    divisor = 1\n",
        "    if size.endswith('k'):\n",
        "        divisor = 1000\n",
        "    size = float(size.strip('Mk'))\n",
        "    return size / divisor\n",
        "\n",
        "def multihot_encode(col_data, col_name, sep=',', prefix=''):\n",
        "    temp = pd.DataFrame()\n",
        "    temp[col_name] = col_data.map(lambda entry: entry.split(sep))\n",
        "    temp = temp.explode(col_name)\n",
        "    dummies = pd.pivot_table(temp, index=temp.index, columns=[col_name],\n",
        "                             aggfunc=len, fill_value=0)\n",
        "    if prefix:\n",
        "        dummies.columns = [prefix + col_name for col_name in dummies.columns]\n",
        "    return dummies\n",
        "\n",
        "def parse_version(vers):\n",
        "    match = re.match(r'(\\d(?:[\\-._]\\d+)*)', vers)\n",
        "    if match is None:\n",
        "        return -1\n",
        "    head, *tail = re.split(r'[\\-._]', match.group(1), maxsplit=1)\n",
        "    return float('{0}.{1}'.format(head, re.sub(r'[\\-._]', '', (tail or [''])[0])))\n",
        "\n",
        "def parse_version_supports(vers):\n",
        "    match = re.match(r'(.*) and up', vers)\n",
        "    if match is not None:\n",
        "        return [parse_version(match.group(1).strip('W')), 0]\n",
        "    match = re.match(r'(.*) - (.*)', vers)\n",
        "    if match is not None:\n",
        "        return [parse_version(match.group(1)), 1]\n",
        "    return [-1., 0]"
      ],
      "execution_count": 0,
      "outputs": []
    },
    {
      "cell_type": "code",
      "metadata": {
        "id": "8Bkc-KPZzq6z",
        "colab_type": "code",
        "colab": {}
      },
      "source": [
        "feature_data = pd.DataFrame()\n",
        "feature_data['Current Ver'] = store_data['Current Ver'].astype(str)\n",
        "feature_data['Android Ver'] = store_data['Android Ver'].astype(str)\n",
        "\n",
        "category_dummies = pd.get_dummies(store_data['Category'], prefix='CAT', prefix_sep=':')\n",
        "feature_data[category_dummies.columns] = category_dummies\n",
        "\n",
        "feature_data['norm_rating'] = (store_data['Rating'] / 5.).fillna(-1)\n",
        "feature_data['unknown_rating'] = (feature_data['norm_rating'] == -1).astype(int)\n",
        "\n",
        "feature_data['abs_size'] = store_data['Size'].map(size_parse)\n",
        "feature_data['unknown_size'] = (feature_data['abs_size'] == -1).astype(int)\n",
        "\n",
        "feature_data['log_installs'] = np.log(store_data['Installs'].map(\n",
        "    lambda i: int(i.strip('+').replace(',', '')) + 1))\n",
        "\n",
        "price_type_dummies = pd.get_dummies(store_data['Type'], prefix='PRICE_TYPE',\n",
        "                                    prefix_sep=':', dummy_na=True)\n",
        "feature_data[price_type_dummies.columns] = price_type_dummies\n",
        "\n",
        "content_rating_dummies = pd.get_dummies(store_data['Content Rating'], prefix='CONTENT_RATING',\n",
        "                                        prefix_sep=':', dummy_na=True)\n",
        "feature_data[content_rating_dummies.columns] = content_rating_dummies\n",
        "\n",
        "genre_dummies = multihot_encode(store_data['Genres'], 'Genres', sep=';', prefix='GENRE:')\n",
        "feature_data[genre_dummies.columns] = genre_dummies\n",
        "\n",
        "feature_data['dec_cur_version'] = feature_data['Current Ver'].map(parse_version)\n",
        "feature_data['unknown_cur_version'] = (feature_data['dec_cur_version'] == -1).astype(int)\n",
        "feature_data.drop('Current Ver', axis=1, inplace=True)\n",
        "\n",
        "feature_data['android_version_range'] = feature_data['Android Ver'].map(parse_version_supports)\n",
        "feature_data[['min_android_version', 'maxed_android_version']] = pd.DataFrame(\n",
        "    feature_data['android_version_range'].values.tolist())\n",
        "feature_data['unknown_android_version'] = (feature_data['min_android_version'] == -1).astype(int)\n",
        "feature_data.drop(['Android Ver', 'android_version_range'], axis=1, inplace=True)"
      ],
      "execution_count": 0,
      "outputs": []
    },
    {
      "cell_type": "code",
      "metadata": {
        "id": "qtyh3YClXVoR",
        "colab_type": "code",
        "colab": {}
      },
      "source": [
        "LABELS = ['log_installs']\n",
        "\n",
        "def training(feature_data):\n",
        "    features = feature_data.copy()\n",
        "    labels = np.array(features[LABELS])\n",
        "    features.drop(LABELS, axis=1, inplace=True)\n",
        "    feature_list = list(features.columns)\n",
        "    features = np.array(features)\n",
        "\n",
        "    from sklearn.model_selection import train_test_split\n",
        "    train_features, test_features, train_labels, test_labels = \\\n",
        "        train_test_split(features, labels, test_size = 0.1)\n",
        "    \n",
        "    print('Training Features Shape:', train_features.shape)\n",
        "    print('Training Labels Shape:', train_labels.shape)\n",
        "    print('Testing Features Shape:', test_features.shape)\n",
        "    print('Testing Labels Shape:', test_labels.shape)\n",
        "\n",
        "    from sklearn.ensemble import RandomForestRegressor\n",
        "    rf = RandomForestRegressor(n_estimators = 20)\n",
        "    rf.fit(train_features, train_labels)\n",
        "\n",
        "    # Use the forest's predict method on the test data\n",
        "    pred = rf.predict(test_features)\n",
        "\n",
        "    from sklearn import metrics\n",
        "    print('Mean Absolute Error (MAE):', metrics.mean_absolute_error(test_labels, pred))\n",
        "    print('Mean Squared Error (MSE):', metrics.mean_squared_error(test_labels, pred))\n",
        "    print('Root Mean Squared Error (RMSE):', np.sqrt(metrics.mean_squared_error(test_labels, pred)))\n",
        "\n",
        "training(feature_data.dropna())"
      ],
      "execution_count": 0,
      "outputs": []
    }
  ]
}